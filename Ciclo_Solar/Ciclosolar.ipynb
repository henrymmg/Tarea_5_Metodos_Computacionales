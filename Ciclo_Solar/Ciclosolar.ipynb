{
 "metadata": {
  "name": ""
 },
 "nbformat": 3,
 "nbformat_minor": 0,
 "worksheets": [
  {
   "cells": [
    {
     "cell_type": "markdown",
     "metadata": {},
     "source": [
      "Tarea 5\n",
      "Punto 1\n",
      "Autores: Juliana Ayala\n",
      "         Henry Martinez"
     ]
    },
    {
     "cell_type": "heading",
     "level": 1,
     "metadata": {},
     "source": [
      "Per\u00edodo del ciclo solar"
     ]
    },
    {
     "cell_type": "code",
     "collapsed": false,
     "input": [
      "%pylab inline\n",
      "from scipy import interpolate\n",
      "from scipy.fftpack import fft, fftfreq"
     ],
     "language": "python",
     "metadata": {},
     "outputs": [
      {
       "output_type": "stream",
       "stream": "stdout",
       "text": [
        "Populating the interactive namespace from numpy and matplotlib\n"
       ]
      }
     ],
     "prompt_number": 1
    },
    {
     "cell_type": "code",
     "collapsed": false,
     "input": [
      "#cargo el archivo y lo separo por columnas dependiendo de la informacion\n",
      "\n",
      "data=loadtxt(open('sparse_sample_monthrg.dat','r'))\n",
      "\n",
      "anio=data[:,0]\n",
      "mes=data[:,1]\n",
      "muestra=data[:,2]\n",
      "promedio=data[:,3]"
     ],
     "language": "python",
     "metadata": {},
     "outputs": [],
     "prompt_number": 2
    },
    {
     "cell_type": "code",
     "collapsed": false,
     "input": [
      "forma = shape(anio)[0]\n",
      "n_dat = forma - 1\n",
      "\n",
      "#saco los datos que no me sirven\n",
      "n_datn = 0\n",
      "for i in range(n_dat):\n",
      "    nuevo = promedio[i]\n",
      "    if(nuevo==-99):\n",
      "        n_datn = i"
     ],
     "language": "python",
     "metadata": {},
     "outputs": [],
     "prompt_number": 3
    },
    {
     "cell_type": "code",
     "collapsed": false,
     "input": [
      "#ahora hago variables que contengan los nuevos datos a usar\n",
      "\n",
      "anion = empty(0)\n",
      "mesn = empty(0)\n",
      "muestran = empty(0)\n",
      "promedion = empty(0)\n",
      "datos = n_datn + 1\n",
      "\n",
      "for i in range(datos,n_dat):\n",
      "    \n",
      "    anion = append(anion,anio[i])\n",
      "    mesn = append(mesn,mes[i])\n",
      "    muestran = append(muestran, muestra[i])\n",
      "    promedion = append(promedion,promedio[i])\n",
      "\n",
      "hola = shape(promedion)[0]\n",
      "datos = hola-1\n",
      "print datos"
     ],
     "language": "python",
     "metadata": {},
     "outputs": [
      {
       "output_type": "stream",
       "stream": "stdout",
       "text": [
        "244\n"
       ]
      }
     ],
     "prompt_number": 4
    },
    {
     "cell_type": "code",
     "collapsed": false,
     "input": [
      "continuo = empty(0)\n",
      "\n",
      "#pongo los datos continuos\n",
      "for i in range(datos+1):\n",
      "    coso = ((anion[i]*12) + mesn[i]) - ((anion[0]*12) + mesn[0])\n",
      "    continuo = append(continuo, coso) \n"
     ],
     "language": "python",
     "metadata": {},
     "outputs": [],
     "prompt_number": 5
    },
    {
     "cell_type": "code",
     "collapsed": false,
     "input": [
      "#ahora hago interpolacion lineal\n",
      "a = continuo[datos]\n",
      "b = (int)(a) \n",
      "interpolacion = interpolate.interp1d(continuo,promedion,'linear')\n",
      "\n",
      "listainterpolada = empty(0)\n",
      "for i in range(b + 1):\n",
      "    listainterpolada = append(listainterpolada, interpolacion(i))\n",
      "\n",
      "plot(listainterpolada)\n",
      "title('Datos interpolados')"
     ],
     "language": "python",
     "metadata": {},
     "outputs": [
      {
       "metadata": {},
       "output_type": "pyout",
       "prompt_number": 6,
       "text": [
        "<matplotlib.text.Text at 0x10d125750>"
       ]
      },
      {
       "metadata": {},
       "output_type": "display_data",
       "png": "[encoded data removed]",
       "text": [
        "<matplotlib.figure.Figure at 0x10d0ba450>"
       ]
      }
     ],
     "prompt_number": 6
    },
    {
     "cell_type": "code",
     "collapsed": false,
     "input": [
      "#ahora saco la transformada de Fourier a los datos\n",
      "dt = 1\n",
      "frecuencia = fftfreq(b + 1, dt)\n",
      "fourier = (fft(listainterpolada))"
     ],
     "language": "python",
     "metadata": {},
     "outputs": [],
     "prompt_number": 7
    },
    {
     "cell_type": "code",
     "collapsed": false,
     "input": [
      "#Toma la posici\u00f3n del valor m\u00e1ximo de la norma de la transformada de Fourier\n",
      "c = (argsort(-abs(fourier))[1])"
     ],
     "language": "python",
     "metadata": {},
     "outputs": [],
     "prompt_number": 8
    },
    {
     "cell_type": "code",
     "collapsed": false,
     "input": [
      "#Encuentro el periodo en anios\n",
      "periodo1 = 1 / frecuencia[c]\n",
      "periodo = abs(periodo1)/12\n",
      "\n",
      "print 'A partir del analisis de Fourier encontramos que el ciclo solar en anios es:',periodo, 'aprox.'"
     ],
     "language": "python",
     "metadata": {},
     "outputs": [
      {
       "output_type": "stream",
       "stream": "stdout",
       "text": [
        "A partir del analisis de Fourier encontramos que el ciclo solar en anios es: 11.0324074074 aprox.\n"
       ]
      }
     ],
     "prompt_number": 9
    }
   ],
   "metadata": {}
  }
 ]
}